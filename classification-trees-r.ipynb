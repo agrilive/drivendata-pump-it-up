{
 "cells": [
  {
   "cell_type": "markdown",
   "metadata": {},
   "source": [
    "# Classification trees with R\n",
    "\n",
    "Since this was the first time I am picking up R, I wanted to try a data analysis project with it. As such, this notebook contain my approach with the various classification trees, including the basic decision tree to the more advanced methods such as random forest. I have also explained why certain parameters are used.\n",
    "\n",
    "## Load cleaned data"
   ]
  },
  {
   "cell_type": "code",
   "execution_count": 28,
   "metadata": {},
   "outputs": [],
   "source": [
    "train <- read.csv('cleanTrain.csv')"
   ]
  },
  {
   "cell_type": "markdown",
   "metadata": {},
   "source": [
    "## Split data into train and test sets\n",
    "\n",
    "Due to the class imbalance of status_group, we chose a stratified sampling method. This maintains the same proportion of classes in the training and validation set as in the original dataset."
   ]
  },
  {
   "cell_type": "code",
   "execution_count": 2,
   "metadata": {},
   "outputs": [
    {
     "name": "stderr",
     "output_type": "stream",
     "text": [
      "Warning message:\n",
      "\"package 'caret' was built under R version 3.6.3\"Loading required package: lattice\n",
      "Loading required package: ggplot2\n",
      "Warning message:\n",
      "\"package 'ggplot2' was built under R version 3.6.2\""
     ]
    }
   ],
   "source": [
    "library(caret)"
   ]
  },
  {
   "cell_type": "code",
   "execution_count": 29,
   "metadata": {},
   "outputs": [],
   "source": [
    "train_ind <- createDataPartition(train$status_group, p = .7, list = FALSE)\n",
    "train_sub <- train[train_ind,]\n",
    "val_sub  <- train[-train_ind,]"
   ]
  },
  {
   "cell_type": "markdown",
   "metadata": {},
   "source": [
    "## Classification trees"
   ]
  },
  {
   "cell_type": "code",
   "execution_count": 59,
   "metadata": {},
   "outputs": [],
   "source": [
    "library(tree)\n",
    "library(rpart) \n",
    "library(caret) # for confusionMatrix"
   ]
  },
  {
   "cell_type": "code",
   "execution_count": 60,
   "metadata": {},
   "outputs": [
    {
     "data": {
      "text/plain": [
       "\n",
       "Classification tree:\n",
       "tree(formula = status_group ~ ., data = train_sub)\n",
       "Variables actually used in tree construction:\n",
       "[1] \"quantity\"        \"waterpoint_type\" \"payment_type\"    \"source\"         \n",
       "Number of terminal nodes:  5 \n",
       "Residual mean deviance:  1.458 = 60610 / 41580 \n",
       "Misclassification error rate: 0.3048 = 12674 / 41581 "
      ]
     },
     "metadata": {},
     "output_type": "display_data"
    }
   ],
   "source": [
    "tree1 <- tree(status_group~.,\n",
    "              data = train_sub)\n",
    "summary(tree1)"
   ]
  },
  {
   "cell_type": "code",
   "execution_count": 61,
   "metadata": {},
   "outputs": [
    {
     "data": {
      "image/png": "[encoded data removed]",
      "text/plain": [
       "plot without title"
      ]
     },
     "metadata": {},
     "output_type": "display_data"
    }
   ],
   "source": [
    "plot(tree1)\n",
    "text(tree1,pretty=0,cex=.8)"
   ]
  },
  {
   "cell_type": "markdown",
   "metadata": {},
   "source": [
    "quantity_group has the highest importance, followed by waterpoint_type, amount_tsh and extraction_type."
   ]
  },
  {
   "cell_type": "code",
   "execution_count": 62,
   "metadata": {},
   "outputs": [
    {
     "data": {
      "text/plain": [
       "                         \n",
       "tree1.pred                functional functional needs repair non functional\n",
       "  functional                    8721                     979           3147\n",
       "  functional needs repair          0                       0              0\n",
       "  non functional                 956                     316           3700"
      ]
     },
     "metadata": {},
     "output_type": "display_data"
    }
   ],
   "source": [
    "tree1.pred <- predict(object = tree1,\n",
    "                      newdata = val_sub, type = 'class')\n",
    "tree1.table <- table(tree1.pred, val_sub$status_group)\n",
    "tree1.table"
   ]
  },
  {
   "cell_type": "markdown",
   "metadata": {},
   "source": [
    "type='class' means that R will return the actual class prediction."
   ]
  },
  {
   "cell_type": "markdown",
   "metadata": {},
   "source": [
    "### Create functions for evaluation metrics\n",
    "\n",
    "We will use **accuracy** as the evaluation metrics. I was thinking of using the recall score and micro-average recall score. However, I came to realise that the micro-average recall score is the same as the accuracy score! Here is my thought process: \n",
    "\n",
    "In our challenge, the impact of incorrectly classifying a non-functional waterpoint as a functional waterpoint is more severe than incorrectly classifying a functional waterpoint as a non-functional waterpoint. Thus, we focus on the recall scores (the proportion of actual positives which are wrongly classified). \n",
    "\n",
    "- Recall = TP / (TP+FN)\n",
    "\n",
    "For multiclass classification, it can come across as confusing as to which value is a true positive or a false negative. It is easier to think of it as the proportion of correctly predicted x out of the actual number of x. For example, \n",
    "\n",
    "**Recall score of functional waterpoints = correct prediction of functional waterpoints / actual number of functional \n",
    "waterpoints**\n",
    "= 8804 / (8804+0+873)\n",
    "\n",
    "Note that there is a recall score for each class.\n",
    "\n",
    "It can be tedious trying to compare the recall score for each class every time a tree model is ran. Thus, we use a single value, the micro-average recall score instead. The micro-average recall score calculates the individual TP and FN of each class and imbue into the formula. In contrast, the macro-average recall score is simply the average of individual recall scores.\n",
    "\n",
    "- Micro-average recall = (TP1+TP2+TP3) / (TP1+TP2+TP3+FN1+FN2+FN3)\n",
    "- Macro-average recall = (R1+R2+R3) / 3\n",
    "\n",
    "We use the micro-average recall score due to the presence of imbalance classes.\n",
    "\n",
    "You may be quick to realise that the **micro-average recall = accuracy** for a multi-class classification problem since it is essentially the number of correct predictions out of the total dataset."
   ]
  },
  {
   "cell_type": "code",
   "execution_count": 63,
   "metadata": {},
   "outputs": [],
   "source": [
    "# Create function that calculates accuracy score\n",
    "accuracy <- function(table){\n",
    "    acc = (table[1,1]+table[2,2]+\n",
    "                     table[3,3])/sum(table)\n",
    "    return(acc)\n",
    "}"
   ]
  },
  {
   "cell_type": "code",
   "execution_count": 64,
   "metadata": {},
   "outputs": [],
   "source": [
    "# Create function that calculates recall score\n",
    "recall1 <- function(table){\n",
    "    rec = (table[1,1])/\n",
    "        (table[1,1]+table[1,2]+table[1,3])\n",
    "    return(rec)\n",
    "}\n",
    "recall2 <- function(table){\n",
    "    rec = (table[2,2])/\n",
    "        (table[2,1]+table[2,2]+table[2,3])\n",
    "    return(rec)\n",
    "}\n",
    "recall3 <- function(table){\n",
    "    rec = (table[3,3])/\n",
    "        (table[3,1]+table[3,2]+table[3,3])\n",
    "    return(rec)\n",
    "}"
   ]
  },
  {
   "cell_type": "code",
   "execution_count": 65,
   "metadata": {},
   "outputs": [
    {
     "data": {
      "text/html": [
       "0.697064930691958"
      ],
      "text/latex": [
       "0.697064930691958"
      ],
      "text/markdown": [
       "0.697064930691958"
      ],
      "text/plain": [
       "[1] 0.6970649"
      ]
     },
     "metadata": {},
     "output_type": "display_data"
    }
   ],
   "source": [
    "tree1.acc <- accuracy(tree1.table)\n",
    "tree1.acc"
   ]
  },
  {
   "cell_type": "code",
   "execution_count": 66,
   "metadata": {},
   "outputs": [
    {
     "name": "stdout",
     "output_type": "stream",
     "text": [
      "0.6788355 NaN 0.7441673"
     ]
    }
   ],
   "source": [
    "tree1.rec1 <- recall1(tree1.table)\n",
    "tree1.rec2 <- recall2(tree1.table)\n",
    "tree1.rec3 <- recall3(tree1.table)\n",
    "cat(tree1.rec1,tree1.rec2,tree1.rec3)"
   ]
  },
  {
   "cell_type": "markdown",
   "metadata": {},
   "source": [
    "### Pruning the tree"
   ]
  },
  {
   "cell_type": "code",
   "execution_count": 67,
   "metadata": {},
   "outputs": [],
   "source": [
    "tree1.cv <- cv.tree(tree1,FUN=prune.misclass)"
   ]
  },
  {
   "cell_type": "markdown",
   "metadata": {},
   "source": [
    "FUN=prune.misclass means that we are using the classification error rate to guide the cross-validation and pruning process."
   ]
  },
  {
   "cell_type": "code",
   "execution_count": 68,
   "metadata": {},
   "outputs": [
    {
     "data": {
      "image/png": "[encoded data removed]",
      "text/plain": [
       "Plot with title \"Cross validation: Deviance vs Size\""
      ]
     },
     "metadata": {},
     "output_type": "display_data"
    }
   ],
   "source": [
    "plot(tree1.cv$size, tree1.cv$dev, type='b',\n",
    "     main='Cross validation: Deviance vs Size',\n",
    "     xlab='Number of terminal nodes', ylab='deviance')"
   ]
  },
  {
   "cell_type": "code",
   "execution_count": 69,
   "metadata": {},
   "outputs": [
    {
     "data": {
      "text/html": [
       "5"
      ],
      "text/latex": [
       "5"
      ],
      "text/markdown": [
       "5"
      ],
      "text/plain": [
       "[1] 5"
      ]
     },
     "metadata": {},
     "output_type": "display_data"
    }
   ],
   "source": [
    "tree1.nn <- tree1.cv$size[which.min(tree1.cv$dev)]\n",
    "tree1.nn"
   ]
  },
  {
   "cell_type": "markdown",
   "metadata": {},
   "source": [
    "The cross-validation error rate is lowest with 5 terminal nodes on each tree. That is actually the same as the previous decision tree. However, we will still prune the tree with 5 nodes for completeness.\n",
    "\n",
    "Note that size represents number of terminal nodes of each tree while dev refers to the cross-validation error rate."
   ]
  },
  {
   "cell_type": "code",
   "execution_count": 70,
   "metadata": {},
   "outputs": [],
   "source": [
    "tree1.prune <- prune.misclass(tree1, best=tree1.nn)"
   ]
  },
  {
   "cell_type": "code",
   "execution_count": 71,
   "metadata": {},
   "outputs": [
    {
     "data": {
      "image/png": "[encoded data removed]",
      "text/plain": [
       "Plot with title \"Pruned classification tree with optimal size\""
      ]
     },
     "metadata": {},
     "output_type": "display_data"
    }
   ],
   "source": [
    "plot(tree1.prune)\n",
    "title('Pruned classification tree with optimal size')\n",
    "text(tree1.prune,pretty=0,cex=.8)"
   ]
  },
  {
   "cell_type": "code",
   "execution_count": 72,
   "metadata": {},
   "outputs": [
    {
     "data": {
      "text/plain": [
       "                         \n",
       "tree1.pred2               functional functional needs repair non functional\n",
       "  functional                    8721                     979           3147\n",
       "  functional needs repair          0                       0              0\n",
       "  non functional                 956                     316           3700"
      ]
     },
     "metadata": {},
     "output_type": "display_data"
    }
   ],
   "source": [
    "tree1.pred2 <- predict(object = tree1.prune,\n",
    "                       newdata = val_sub, type = 'class')\n",
    "tree1.table2 <- table(tree1.pred2, val_sub$status_group)\n",
    "tree1.table2"
   ]
  },
  {
   "cell_type": "code",
   "execution_count": 73,
   "metadata": {},
   "outputs": [
    {
     "data": {
      "text/html": [
       "0.697064930691958"
      ],
      "text/latex": [
       "0.697064930691958"
      ],
      "text/markdown": [
       "0.697064930691958"
      ],
      "text/plain": [
       "[1] 0.6970649"
      ]
     },
     "metadata": {},
     "output_type": "display_data"
    }
   ],
   "source": [
    "tree1.acc2 <- accuracy(tree1.table2)\n",
    "tree1.acc2"
   ]
  },
  {
   "cell_type": "code",
   "execution_count": 74,
   "metadata": {},
   "outputs": [
    {
     "name": "stdout",
     "output_type": "stream",
     "text": [
      "0.6788355 NaN 0.7441673"
     ]
    }
   ],
   "source": [
    "tree1.rec21 <- recall1(tree1.table2)\n",
    "tree1.rec22 <- recall2(tree1.table2)\n",
    "tree1.rec23 <- recall3(tree1.table2)\n",
    "cat(tree1.rec21,tree1.rec22,tree1.rec23)"
   ]
  },
  {
   "cell_type": "markdown",
   "metadata": {},
   "source": [
    "## Bagging"
   ]
  },
  {
   "cell_type": "code",
   "execution_count": 5,
   "metadata": {},
   "outputs": [
    {
     "name": "stderr",
     "output_type": "stream",
     "text": [
      "Warning message:\n",
      "\"package 'randomForest' was built under R version 3.6.3\"randomForest 4.6-14\n",
      "Type rfNews() to see new features/changes/bug fixes.\n",
      "\n",
      "Attaching package: 'randomForest'\n",
      "\n",
      "The following object is masked from 'package:ggplot2':\n",
      "\n",
      "    margin\n",
      "\n"
     ]
    }
   ],
   "source": [
    "library(randomForest)"
   ]
  },
  {
   "cell_type": "code",
   "execution_count": 76,
   "metadata": {},
   "outputs": [
    {
     "data": {
      "text/html": [
       "15"
      ],
      "text/latex": [
       "15"
      ],
      "text/markdown": [
       "15"
      ],
      "text/plain": [
       "[1] 15"
      ]
     },
     "metadata": {},
     "output_type": "display_data"
    }
   ],
   "source": [
    "ncol(train_sub)"
   ]
  },
  {
   "cell_type": "code",
   "execution_count": 77,
   "metadata": {},
   "outputs": [
    {
     "data": {
      "text/html": [
       "0"
      ],
      "text/latex": [
       "0"
      ],
      "text/markdown": [
       "0"
      ],
      "text/plain": [
       "[1] 0"
      ]
     },
     "metadata": {},
     "output_type": "display_data"
    }
   ],
   "source": [
    "sum(is.na(train_sub))"
   ]
  },
  {
   "cell_type": "code",
   "execution_count": 78,
   "metadata": {},
   "outputs": [
    {
     "data": {
      "text/plain": [
       "\n",
       "Call:\n",
       " randomForest(formula = status_group ~ ., data = train_sub, mtry = 14,      importance = TRUE) \n",
       "               Type of random forest: classification\n",
       "                     Number of trees: 500\n",
       "No. of variables tried at each split: 14\n",
       "\n",
       "        OOB estimate of  error rate: 22.26%\n",
       "Confusion matrix:\n",
       "                        functional functional needs repair non functional\n",
       "functional                   19652                     626           2304\n",
       "functional needs repair       1721                     842            459\n",
       "non functional                3851                     296          11830\n",
       "                        class.error\n",
       "functional                0.1297494\n",
       "functional needs repair   0.7213766\n",
       "non functional            0.2595606"
      ]
     },
     "metadata": {},
     "output_type": "display_data"
    }
   ],
   "source": [
    "bag1 <- randomForest(status_group~., data = train_sub,\n",
    "                     mtry = 14, importance = TRUE)\n",
    "bag1"
   ]
  },
  {
   "cell_type": "markdown",
   "metadata": {},
   "source": [
    "mtry = 15 is used to reflect that all 15 variables are considered at each split."
   ]
  },
  {
   "cell_type": "code",
   "execution_count": 79,
   "metadata": {},
   "outputs": [],
   "source": [
    "bag1.pred <- predict(object = bag1,\n",
    "                     newdata = val_sub, type = 'class')"
   ]
  },
  {
   "cell_type": "code",
   "execution_count": 80,
   "metadata": {},
   "outputs": [
    {
     "data": {
      "image/png": "[encoded data removed]",
      "text/plain": [
       "Plot with title \"Bagging procedure for waterpoints data\""
      ]
     },
     "metadata": {},
     "output_type": "display_data"
    }
   ],
   "source": [
    "plot(bag1.pred,val_sub$status_group, \n",
    "     main='Bagging procedure for waterpoints data',\n",
    "     xlab='Predicted value', ylab='observed value')"
   ]
  },
  {
   "cell_type": "code",
   "execution_count": 81,
   "metadata": {},
   "outputs": [
    {
     "data": {
      "text/html": [
       "<table>\n",
       "<thead><tr><th></th><th scope=col>functional</th><th scope=col>functional needs repair</th><th scope=col>non functional</th><th scope=col>MeanDecreaseAccuracy</th><th scope=col>MeanDecreaseGini</th></tr></thead>\n",
       "<tbody>\n",
       "\t<tr><th scope=row>amount_tsh</th><td> 49.23339</td><td> 16.13335</td><td> 38.82491</td><td> 50.42419</td><td> 459.7344</td></tr>\n",
       "\t<tr><th scope=row>gps_height</th><td>117.40899</td><td> 68.67410</td><td>102.35164</td><td>161.80937</td><td>3461.3897</td></tr>\n",
       "\t<tr><th scope=row>installer</th><td>159.62813</td><td>101.13842</td><td>151.06737</td><td>253.08666</td><td>1120.7334</td></tr>\n",
       "\t<tr><th scope=row>basin</th><td>171.24950</td><td>167.21931</td><td>166.36659</td><td>269.25058</td><td>1160.2828</td></tr>\n",
       "\t<tr><th scope=row>population</th><td>128.98453</td><td> 31.48609</td><td> 69.23384</td><td>161.13376</td><td>1912.3060</td></tr>\n",
       "\t<tr><th scope=row>scheme_management</th><td> 99.51297</td><td> 55.71149</td><td> 78.43427</td><td>135.56032</td><td> 648.6037</td></tr>\n",
       "\t<tr><th scope=row>permit</th><td> 96.69771</td><td> 55.66971</td><td> 50.62664</td><td>122.62045</td><td> 371.3971</td></tr>\n",
       "\t<tr><th scope=row>construction_year</th><td>162.53493</td><td> 79.17351</td><td>120.75240</td><td>238.30404</td><td>1786.5247</td></tr>\n",
       "\t<tr><th scope=row>management</th><td> 79.34189</td><td> 31.06962</td><td> 80.87765</td><td>109.50494</td><td> 633.3944</td></tr>\n",
       "\t<tr><th scope=row>payment_type</th><td>160.67194</td><td>113.05312</td><td>148.43324</td><td>229.33862</td><td> 956.1143</td></tr>\n",
       "\t<tr><th scope=row>water_quality</th><td> 69.60801</td><td> 31.83999</td><td> 25.24406</td><td> 85.12542</td><td> 422.3644</td></tr>\n",
       "\t<tr><th scope=row>quantity</th><td>358.48223</td><td>107.54030</td><td>425.46316</td><td>550.91175</td><td>3690.7665</td></tr>\n",
       "\t<tr><th scope=row>source</th><td>190.23902</td><td>125.76775</td><td>171.28046</td><td>297.17368</td><td>1247.9921</td></tr>\n",
       "\t<tr><th scope=row>waterpoint_type</th><td>254.40750</td><td>106.89362</td><td>205.78414</td><td>392.45610</td><td>1883.9046</td></tr>\n",
       "</tbody>\n",
       "</table>\n"
      ],
      "text/latex": [
       "\\begin{tabular}{r|lllll}\n",
       "  & functional & functional needs repair & non functional & MeanDecreaseAccuracy & MeanDecreaseGini\\\\\n",
       "\\hline\n",
       "\tamount\\_tsh &  49.23339 &  16.13335 &  38.82491 &  50.42419 &  459.7344\\\\\n",
       "\tgps\\_height & 117.40899 &  68.67410 & 102.35164 & 161.80937 & 3461.3897\\\\\n",
       "\tinstaller & 159.62813 & 101.13842 & 151.06737 & 253.08666 & 1120.7334\\\\\n",
       "\tbasin & 171.24950 & 167.21931 & 166.36659 & 269.25058 & 1160.2828\\\\\n",
       "\tpopulation & 128.98453 &  31.48609 &  69.23384 & 161.13376 & 1912.3060\\\\\n",
       "\tscheme\\_management &  99.51297 &  55.71149 &  78.43427 & 135.56032 &  648.6037\\\\\n",
       "\tpermit &  96.69771 &  55.66971 &  50.62664 & 122.62045 &  371.3971\\\\\n",
       "\tconstruction\\_year & 162.53493 &  79.17351 & 120.75240 & 238.30404 & 1786.5247\\\\\n",
       "\tmanagement &  79.34189 &  31.06962 &  80.87765 & 109.50494 &  633.3944\\\\\n",
       "\tpayment\\_type & 160.67194 & 113.05312 & 148.43324 & 229.33862 &  956.1143\\\\\n",
       "\twater\\_quality &  69.60801 &  31.83999 &  25.24406 &  85.12542 &  422.3644\\\\\n",
       "\tquantity & 358.48223 & 107.54030 & 425.46316 & 550.91175 & 3690.7665\\\\\n",
       "\tsource & 190.23902 & 125.76775 & 171.28046 & 297.17368 & 1247.9921\\\\\n",
       "\twaterpoint\\_type & 254.40750 & 106.89362 & 205.78414 & 392.45610 & 1883.9046\\\\\n",
       "\\end{tabular}\n"
      ],
      "text/markdown": [
       "\n",
       "| <!--/--> | functional | functional needs repair | non functional | MeanDecreaseAccuracy | MeanDecreaseGini |\n",
       "|---|---|---|---|---|---|\n",
       "| amount_tsh |  49.23339 |  16.13335 |  38.82491 |  50.42419 |  459.7344 |\n",
       "| gps_height | 117.40899 |  68.67410 | 102.35164 | 161.80937 | 3461.3897 |\n",
       "| installer | 159.62813 | 101.13842 | 151.06737 | 253.08666 | 1120.7334 |\n",
       "| basin | 171.24950 | 167.21931 | 166.36659 | 269.25058 | 1160.2828 |\n",
       "| population | 128.98453 |  31.48609 |  69.23384 | 161.13376 | 1912.3060 |\n",
       "| scheme_management |  99.51297 |  55.71149 |  78.43427 | 135.56032 |  648.6037 |\n",
       "| permit |  96.69771 |  55.66971 |  50.62664 | 122.62045 |  371.3971 |\n",
       "| construction_year | 162.53493 |  79.17351 | 120.75240 | 238.30404 | 1786.5247 |\n",
       "| management |  79.34189 |  31.06962 |  80.87765 | 109.50494 |  633.3944 |\n",
       "| payment_type | 160.67194 | 113.05312 | 148.43324 | 229.33862 |  956.1143 |\n",
       "| water_quality |  69.60801 |  31.83999 |  25.24406 |  85.12542 |  422.3644 |\n",
       "| quantity | 358.48223 | 107.54030 | 425.46316 | 550.91175 | 3690.7665 |\n",
       "| source | 190.23902 | 125.76775 | 171.28046 | 297.17368 | 1247.9921 |\n",
       "| waterpoint_type | 254.40750 | 106.89362 | 205.78414 | 392.45610 | 1883.9046 |\n",
       "\n"
      ],
      "text/plain": [
       "                  functional functional needs repair non functional\n",
       "amount_tsh         49.23339   16.13335                38.82491     \n",
       "gps_height        117.40899   68.67410               102.35164     \n",
       "installer         159.62813  101.13842               151.06737     \n",
       "basin             171.24950  167.21931               166.36659     \n",
       "population        128.98453   31.48609                69.23384     \n",
       "scheme_management  99.51297   55.71149                78.43427     \n",
       "permit             96.69771   55.66971                50.62664     \n",
       "construction_year 162.53493   79.17351               120.75240     \n",
       "management         79.34189   31.06962                80.87765     \n",
       "payment_type      160.67194  113.05312               148.43324     \n",
       "water_quality      69.60801   31.83999                25.24406     \n",
       "quantity          358.48223  107.54030               425.46316     \n",
       "source            190.23902  125.76775               171.28046     \n",
       "waterpoint_type   254.40750  106.89362               205.78414     \n",
       "                  MeanDecreaseAccuracy MeanDecreaseGini\n",
       "amount_tsh         50.42419             459.7344       \n",
       "gps_height        161.80937            3461.3897       \n",
       "installer         253.08666            1120.7334       \n",
       "basin             269.25058            1160.2828       \n",
       "population        161.13376            1912.3060       \n",
       "scheme_management 135.56032             648.6037       \n",
       "permit            122.62045             371.3971       \n",
       "construction_year 238.30404            1786.5247       \n",
       "management        109.50494             633.3944       \n",
       "payment_type      229.33862             956.1143       \n",
       "water_quality      85.12542             422.3644       \n",
       "quantity          550.91175            3690.7665       \n",
       "source            297.17368            1247.9921       \n",
       "waterpoint_type   392.45610            1883.9046       "
      ]
     },
     "metadata": {},
     "output_type": "display_data"
    }
   ],
   "source": [
    "importance(bag1)"
   ]
  },
  {
   "cell_type": "code",
   "execution_count": 82,
   "metadata": {},
   "outputs": [
    {
     "data": {
      "image/png": "[encoded data removed]",
      "text/plain": [
       "plot without title"
      ]
     },
     "metadata": {},
     "output_type": "display_data"
    }
   ],
   "source": [
    "varImpPlot(bag1,main='Importance measure plot')"
   ]
  },
  {
   "cell_type": "markdown",
   "metadata": {},
   "source": [
    "The most important variable is quantity."
   ]
  },
  {
   "cell_type": "code",
   "execution_count": 83,
   "metadata": {},
   "outputs": [
    {
     "data": {
      "text/plain": [
       "                         \n",
       "bag1.pred                 functional functional needs repair non functional\n",
       "  functional                    8419                     742           1622\n",
       "  functional needs repair        286                     351            132\n",
       "  non functional                 972                     202           5093"
      ]
     },
     "metadata": {},
     "output_type": "display_data"
    }
   ],
   "source": [
    "bag1.table <- table(bag1.pred, val_sub$status_group)\n",
    "bag1.table"
   ]
  },
  {
   "cell_type": "code",
   "execution_count": 84,
   "metadata": {},
   "outputs": [
    {
     "data": {
      "text/html": [
       "0.777989786183288"
      ],
      "text/latex": [
       "0.777989786183288"
      ],
      "text/markdown": [
       "0.777989786183288"
      ],
      "text/plain": [
       "[1] 0.7779898"
      ]
     },
     "metadata": {},
     "output_type": "display_data"
    }
   ],
   "source": [
    "bag1.acc <- accuracy(bag1.table)\n",
    "bag1.acc"
   ]
  },
  {
   "cell_type": "code",
   "execution_count": 85,
   "metadata": {},
   "outputs": [
    {
     "name": "stdout",
     "output_type": "stream",
     "text": [
      "0.780766 0.4564369 0.8126695"
     ]
    }
   ],
   "source": [
    "bag1.rec1 <- recall1(bag1.table)\n",
    "bag1.rec2 <- recall2(bag1.table)\n",
    "bag1.rec3 <- recall3(bag1.table)\n",
    "cat(bag1.rec1,bag1.rec2,bag1.rec3)"
   ]
  },
  {
   "cell_type": "markdown",
   "metadata": {},
   "source": [
    "## Random forest"
   ]
  },
  {
   "cell_type": "code",
   "execution_count": 30,
   "metadata": {},
   "outputs": [],
   "source": [
    "rf1 <- randomForest(status_group~., data = train_sub,\n",
    "                    importance = TRUE)"
   ]
  },
  {
   "cell_type": "markdown",
   "metadata": {},
   "source": [
    "mtry = 4 is used because the square root of p variables is used for building of random forest for classification. \n",
    "\n",
    "Note that p/3 predictors are used when building random forest for regression."
   ]
  },
  {
   "cell_type": "code",
   "execution_count": 31,
   "metadata": {},
   "outputs": [],
   "source": [
    "rf1.pred <- predict(object = rf1,\n",
    "                    newdata = val_sub, type = 'class')"
   ]
  },
  {
   "cell_type": "code",
   "execution_count": 88,
   "metadata": {},
   "outputs": [
    {
     "data": {
      "image/png": "[encoded data removed]",
      "text/plain": [
       "Plot with title \"Random forest procedure for waterpoints data\""
      ]
     },
     "metadata": {},
     "output_type": "display_data"
    }
   ],
   "source": [
    "plot(rf1.pred,val_sub$status_group, \n",
    "     main='Random forest procedure for waterpoints data',\n",
    "     xlab='Predicted value', ylab='observed value')"
   ]
  },
  {
   "cell_type": "code",
   "execution_count": 89,
   "metadata": {},
   "outputs": [
    {
     "data": {
      "text/html": [
       "<table>\n",
       "<thead><tr><th></th><th scope=col>functional</th><th scope=col>functional needs repair</th><th scope=col>non functional</th><th scope=col>MeanDecreaseAccuracy</th><th scope=col>MeanDecreaseGini</th></tr></thead>\n",
       "<tbody>\n",
       "\t<tr><th scope=row>amount_tsh</th><td> 45.36352</td><td>31.24648 </td><td> 32.13952</td><td> 44.66662</td><td> 659.4312</td></tr>\n",
       "\t<tr><th scope=row>gps_height</th><td> 76.12397</td><td>52.68341 </td><td> 69.87853</td><td>103.18111</td><td>1840.2090</td></tr>\n",
       "\t<tr><th scope=row>installer</th><td>113.27537</td><td>63.71484 </td><td> 98.46665</td><td>145.75593</td><td>1007.0301</td></tr>\n",
       "\t<tr><th scope=row>basin</th><td>110.36266</td><td>90.53652 </td><td>100.47954</td><td>147.83129</td><td>1116.6429</td></tr>\n",
       "\t<tr><th scope=row>population</th><td> 64.22410</td><td>31.39649 </td><td> 46.60516</td><td> 80.24587</td><td>1320.5170</td></tr>\n",
       "\t<tr><th scope=row>scheme_management</th><td> 81.15919</td><td>40.47454 </td><td> 63.21350</td><td>100.22478</td><td> 642.5899</td></tr>\n",
       "\t<tr><th scope=row>permit</th><td> 68.91376</td><td>49.18712 </td><td> 59.72954</td><td> 93.78128</td><td> 365.5670</td></tr>\n",
       "\t<tr><th scope=row>construction_year</th><td> 86.33586</td><td>59.28081 </td><td> 76.23371</td><td>105.95469</td><td>1492.7035</td></tr>\n",
       "\t<tr><th scope=row>management</th><td> 64.21877</td><td>29.26888 </td><td> 53.13155</td><td> 73.83199</td><td> 589.9344</td></tr>\n",
       "\t<tr><th scope=row>payment_type</th><td> 72.40083</td><td>61.38195 </td><td> 81.77379</td><td> 90.14619</td><td> 991.0179</td></tr>\n",
       "\t<tr><th scope=row>water_quality</th><td> 49.43480</td><td>41.73432 </td><td> 27.21058</td><td> 54.74364</td><td> 429.0405</td></tr>\n",
       "\t<tr><th scope=row>quantity</th><td>233.53221</td><td>71.94981 </td><td>227.05388</td><td>274.81327</td><td>2950.0580</td></tr>\n",
       "\t<tr><th scope=row>source</th><td> 82.42483</td><td>72.06377 </td><td> 92.36775</td><td>105.01761</td><td>1024.2148</td></tr>\n",
       "\t<tr><th scope=row>waterpoint_type</th><td>154.75390</td><td>78.31933 </td><td> 96.74197</td><td>201.74407</td><td>1917.5645</td></tr>\n",
       "</tbody>\n",
       "</table>\n"
      ],
      "text/latex": [
       "\\begin{tabular}{r|lllll}\n",
       "  & functional & functional needs repair & non functional & MeanDecreaseAccuracy & MeanDecreaseGini\\\\\n",
       "\\hline\n",
       "\tamount\\_tsh &  45.36352 & 31.24648  &  32.13952 &  44.66662 &  659.4312\\\\\n",
       "\tgps\\_height &  76.12397 & 52.68341  &  69.87853 & 103.18111 & 1840.2090\\\\\n",
       "\tinstaller & 113.27537 & 63.71484  &  98.46665 & 145.75593 & 1007.0301\\\\\n",
       "\tbasin & 110.36266 & 90.53652  & 100.47954 & 147.83129 & 1116.6429\\\\\n",
       "\tpopulation &  64.22410 & 31.39649  &  46.60516 &  80.24587 & 1320.5170\\\\\n",
       "\tscheme\\_management &  81.15919 & 40.47454  &  63.21350 & 100.22478 &  642.5899\\\\\n",
       "\tpermit &  68.91376 & 49.18712  &  59.72954 &  93.78128 &  365.5670\\\\\n",
       "\tconstruction\\_year &  86.33586 & 59.28081  &  76.23371 & 105.95469 & 1492.7035\\\\\n",
       "\tmanagement &  64.21877 & 29.26888  &  53.13155 &  73.83199 &  589.9344\\\\\n",
       "\tpayment\\_type &  72.40083 & 61.38195  &  81.77379 &  90.14619 &  991.0179\\\\\n",
       "\twater\\_quality &  49.43480 & 41.73432  &  27.21058 &  54.74364 &  429.0405\\\\\n",
       "\tquantity & 233.53221 & 71.94981  & 227.05388 & 274.81327 & 2950.0580\\\\\n",
       "\tsource &  82.42483 & 72.06377  &  92.36775 & 105.01761 & 1024.2148\\\\\n",
       "\twaterpoint\\_type & 154.75390 & 78.31933  &  96.74197 & 201.74407 & 1917.5645\\\\\n",
       "\\end{tabular}\n"
      ],
      "text/markdown": [
       "\n",
       "| <!--/--> | functional | functional needs repair | non functional | MeanDecreaseAccuracy | MeanDecreaseGini |\n",
       "|---|---|---|---|---|---|\n",
       "| amount_tsh |  45.36352 | 31.24648  |  32.13952 |  44.66662 |  659.4312 |\n",
       "| gps_height |  76.12397 | 52.68341  |  69.87853 | 103.18111 | 1840.2090 |\n",
       "| installer | 113.27537 | 63.71484  |  98.46665 | 145.75593 | 1007.0301 |\n",
       "| basin | 110.36266 | 90.53652  | 100.47954 | 147.83129 | 1116.6429 |\n",
       "| population |  64.22410 | 31.39649  |  46.60516 |  80.24587 | 1320.5170 |\n",
       "| scheme_management |  81.15919 | 40.47454  |  63.21350 | 100.22478 |  642.5899 |\n",
       "| permit |  68.91376 | 49.18712  |  59.72954 |  93.78128 |  365.5670 |\n",
       "| construction_year |  86.33586 | 59.28081  |  76.23371 | 105.95469 | 1492.7035 |\n",
       "| management |  64.21877 | 29.26888  |  53.13155 |  73.83199 |  589.9344 |\n",
       "| payment_type |  72.40083 | 61.38195  |  81.77379 |  90.14619 |  991.0179 |\n",
       "| water_quality |  49.43480 | 41.73432  |  27.21058 |  54.74364 |  429.0405 |\n",
       "| quantity | 233.53221 | 71.94981  | 227.05388 | 274.81327 | 2950.0580 |\n",
       "| source |  82.42483 | 72.06377  |  92.36775 | 105.01761 | 1024.2148 |\n",
       "| waterpoint_type | 154.75390 | 78.31933  |  96.74197 | 201.74407 | 1917.5645 |\n",
       "\n"
      ],
      "text/plain": [
       "                  functional functional needs repair non functional\n",
       "amount_tsh         45.36352  31.24648                 32.13952     \n",
       "gps_height         76.12397  52.68341                 69.87853     \n",
       "installer         113.27537  63.71484                 98.46665     \n",
       "basin             110.36266  90.53652                100.47954     \n",
       "population         64.22410  31.39649                 46.60516     \n",
       "scheme_management  81.15919  40.47454                 63.21350     \n",
       "permit             68.91376  49.18712                 59.72954     \n",
       "construction_year  86.33586  59.28081                 76.23371     \n",
       "management         64.21877  29.26888                 53.13155     \n",
       "payment_type       72.40083  61.38195                 81.77379     \n",
       "water_quality      49.43480  41.73432                 27.21058     \n",
       "quantity          233.53221  71.94981                227.05388     \n",
       "source             82.42483  72.06377                 92.36775     \n",
       "waterpoint_type   154.75390  78.31933                 96.74197     \n",
       "                  MeanDecreaseAccuracy MeanDecreaseGini\n",
       "amount_tsh         44.66662             659.4312       \n",
       "gps_height        103.18111            1840.2090       \n",
       "installer         145.75593            1007.0301       \n",
       "basin             147.83129            1116.6429       \n",
       "population         80.24587            1320.5170       \n",
       "scheme_management 100.22478             642.5899       \n",
       "permit             93.78128             365.5670       \n",
       "construction_year 105.95469            1492.7035       \n",
       "management         73.83199             589.9344       \n",
       "payment_type       90.14619             991.0179       \n",
       "water_quality      54.74364             429.0405       \n",
       "quantity          274.81327            2950.0580       \n",
       "source            105.01761            1024.2148       \n",
       "waterpoint_type   201.74407            1917.5645       "
      ]
     },
     "metadata": {},
     "output_type": "display_data"
    }
   ],
   "source": [
    "importance(rf1)"
   ]
  },
  {
   "cell_type": "code",
   "execution_count": 90,
   "metadata": {},
   "outputs": [
    {
     "data": {
      "image/png": "[encoded data removed]",
      "text/plain": [
       "plot without title"
      ]
     },
     "metadata": {},
     "output_type": "display_data"
    }
   ],
   "source": [
    "varImpPlot(rf1,main='Importance measure plot')"
   ]
  },
  {
   "cell_type": "code",
   "execution_count": 91,
   "metadata": {},
   "outputs": [
    {
     "data": {
      "text/plain": [
       "                         \n",
       "rf1.pred                  functional functional needs repair non functional\n",
       "  functional                    8795                     792           1740\n",
       "  functional needs repair        150                     303             82\n",
       "  non functional                 732                     200           5025"
      ]
     },
     "metadata": {},
     "output_type": "display_data"
    }
   ],
   "source": [
    "rf1.table <- table(rf1.pred, val_sub$status_group)\n",
    "rf1.table"
   ]
  },
  {
   "cell_type": "code",
   "execution_count": 92,
   "metadata": {},
   "outputs": [
    {
     "data": {
      "text/html": [
       "0.792580952915427"
      ],
      "text/latex": [
       "0.792580952915427"
      ],
      "text/markdown": [
       "0.792580952915427"
      ],
      "text/plain": [
       "[1] 0.792581"
      ]
     },
     "metadata": {},
     "output_type": "display_data"
    }
   ],
   "source": [
    "rf1.acc <- accuracy(rf1.table)\n",
    "rf1.acc"
   ]
  },
  {
   "cell_type": "markdown",
   "metadata": {},
   "source": [
    "Accuracy only increased marginally."
   ]
  },
  {
   "cell_type": "code",
   "execution_count": 93,
   "metadata": {},
   "outputs": [
    {
     "name": "stdout",
     "output_type": "stream",
     "text": [
      "0.7764633 0.5663551 0.8435454"
     ]
    }
   ],
   "source": [
    "rf1.rec1 <- recall1(rf1.table)\n",
    "rf1.rec2 <- recall2(rf1.table)\n",
    "rf1.rec3 <- recall3(rf1.table)\n",
    "cat(rf1.rec1,rf1.rec2,rf1.rec3)"
   ]
  },
  {
   "cell_type": "markdown",
   "metadata": {},
   "source": [
    "However, notably, the recall score for functional but needs repair has improved >10%."
   ]
  },
  {
   "cell_type": "code",
   "execution_count": null,
   "metadata": {},
   "outputs": [],
   "source": []
  }
 ],
 "metadata": {
  "kernelspec": {
   "display_name": "R",
   "language": "R",
   "name": "ir"
  },
  "language_info": {
   "codemirror_mode": "r",
   "file_extension": ".r",
   "mimetype": "text/x-r-source",
   "name": "R",
   "pygments_lexer": "r",
   "version": "3.6.1"
  }
 },
 "nbformat": 4,
 "nbformat_minor": 2
}
